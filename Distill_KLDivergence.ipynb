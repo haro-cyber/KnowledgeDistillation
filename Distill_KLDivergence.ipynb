{
 "cells": [
  {
   "cell_type": "code",
   "execution_count": 1,
   "metadata": {},
   "outputs": [],
   "source": [
    "import numpy as np\n",
    "import matplotlib.pyplot as plt\n",
    "import pandas as pd"
   ]
  },
  {
   "cell_type": "code",
   "execution_count": 2,
   "metadata": {},
   "outputs": [
    {
     "name": "stdout",
     "output_type": "stream",
     "text": [
      "(37500, 32, 32, 3) (37500, 10) (12500, 32, 32, 3) (12500, 10) (10000, 32, 32, 3) (10000, 10)\n"
     ]
    },
    {
     "data": {
      "image/png": "[encoded data removed]",
      "text/plain": [
       "<Figure size 432x288 with 1 Axes>"
      ]
     },
     "metadata": {
      "needs_background": "light"
     },
     "output_type": "display_data"
    },
    {
     "name": "stdout",
     "output_type": "stream",
     "text": [
      "[0. 0. 0. 1. 0. 0. 0. 0. 0. 0.] cat\n"
     ]
    }
   ],
   "source": [
    "from tensorflow.keras.datasets import cifar10 \n",
    "from tensorflow.keras.utils import to_categorical\n",
    "(train_images, train_labels), (x_test, y_test) = cifar10.load_data()\n",
    "\n",
    "\n",
    "train_images = train_images.astype('float32')/255.0\n",
    "x_test = x_test.astype('float32')/255.0\n",
    "train_labels = to_categorical(train_labels, num_classes=10)\n",
    "y_test = to_categorical(y_test, num_classes=10)\n",
    "\n",
    "from sklearn.model_selection import train_test_split\n",
    "x_train, x_val, y_train, y_val = train_test_split(train_images,train_labels,random_state=123)\n",
    "\n",
    "print(x_train.shape,\n",
    "      y_train.shape,\n",
    "      x_val.shape,\n",
    "      y_val.shape,\n",
    "      x_test.shape,\n",
    "      y_test.shape)\n",
    "\n",
    "def labeling_vec(t):\n",
    "    label_list = [\"airplane\",\"automobile\",\"bird\",\"cat\",\"deer\",\"dog\",\"frog\",\"horse\",\"ship\",\"truck\"]\n",
    "    ll = np.arange(10)\n",
    "    l = np.dot(t,ll)\n",
    "    return label_list[int(l)]\n",
    "\n",
    "k = 9\n",
    "plt.imshow(x_train[k])\n",
    "plt.show()\n",
    "print(y_train[k],labeling_vec(y_train[k]))"
   ]
  },
  {
   "cell_type": "code",
   "execution_count": 3,
   "metadata": {},
   "outputs": [],
   "source": [
    "import tensorflow as tf\n",
    "from tensorflow import keras\n",
    "from tensorflow.keras import layers\n",
    "\n",
    "from tensorflow.keras import models\n",
    "from tensorflow.keras.callbacks import CSVLogger\n",
    "from tensorflow.keras import optimizers\n",
    "from tensorflow.keras.callbacks import EarlyStopping, ReduceLROnPlateau, LearningRateScheduler\n",
    "\n",
    "from tensorflow.keras.models import Sequential, Model\n",
    "from tensorflow.keras import Input\n",
    "\n",
    "# 使うGPU番号を指定(私の場合は9番を使用)\n",
    "import os\n",
    "os.environ[\"CUDA_VISIBLE_DEVICES\"]=\"3\"\n",
    "\n",
    "# tensorflowは普通に使用すると、GPUメモリを取れるだけとってしまうため、最小限だけ使うように設定する。（命苫メソッド）\n",
    "import tensorflow as tf\n",
    "physical_devices = tf.config.experimental.list_physical_devices('GPU')\n",
    "tf.config.experimental.set_memory_growth(physical_devices[0], True)"
   ]
  },
  {
   "cell_type": "code",
   "execution_count": 4,
   "metadata": {},
   "outputs": [
    {
     "name": "stderr",
     "output_type": "stream",
     "text": [
      "Using TensorFlow backend.\n"
     ]
    }
   ],
   "source": [
    "from keras.callbacks import LearningRateScheduler\n",
    "\n",
    "EPOCHS = 150\n",
    "# 学習率\n",
    "def step_decay(epoch):\n",
    "    x = 0.0001\n",
    "    warmup = 5\n",
    "    if epoch < warmup:\n",
    "        x *= (epoch+1)/warmup\n",
    "    else:\n",
    "        x *= (1 + np.cos(np.pi*(epoch+1-warmup)/EPOCHS))/2\n",
    "    return x\n",
    "\n",
    "\n",
    "#defining layers\n",
    "\n",
    "def basic_conv_block(input, chs, sh, reps): ##sh畳み込み大きさ, reps回数\n",
    "    x = input\n",
    "    for i in range(reps):\n",
    "        x = layers.Conv2D(chs,(sh,sh),padding='same')(x)\n",
    "        x = layers.BatchNormalization()(x)\n",
    "        x = layers.Activation(\"relu\")(x)\n",
    "    return x\n",
    "\n",
    "#Squeezeblock\n",
    "#https://arxiv.org/abs/1709.01507",
    "def SEblock(input,chs): \n",
    "    z = layers.Conv2D(chs,(1,1),padding=\"same\", kernel_initializer='he_normal')(input)\n",
    "    z = layers.GlobalAveragePooling2D()(z)\n",
    "    z = layers.Dense(chs//16, activation='relu')(z)\n",
    "    z = layers.Dense(chs, activation='sigmoid')(z)\n",
    "    z = layers.Reshape((1, 1, chs))(z)\n",
    "    x = layers.Multiply()([input, z])\n",
    "    return x\n",
    "\n",
    "#residualとSEブロックを組み合わせたconv block\n",
    "def residual_SE_conv_block(input, chs, sh, reps): ##sh畳み込み大きさ, reps回数\n",
    "    x = input\n",
    "    residual = layers.Conv2D(chs,(1,1),padding=\"same\", kernel_initializer='he_normal')(input)\n",
    "    for i in range(reps):\n",
    "        x = layers.Conv2D(chs,(sh,sh),padding='same')(x)\n",
    "        x = layers.BatchNormalization()(x)\n",
    "        x = layers.Activation(\"relu\")(x)\n",
    "    x = layers.Add()([x,residual])\n",
    "    x = SEblock(x,chs)\n",
    "    return x\n",
    "\n",
    "#creating the model\n",
    "\n",
    "def create_cnn(SHAPE,channel):\n",
    "    input = Input(shape=(SHAPE,SHAPE,channel))\n",
    "    x = basic_conv_block(input, 64, 5, 1)\n",
    "    x = layers.AveragePooling2D(2)(x)\n",
    "    x = basic_conv_block(x, 128, 3, 3)\n",
    "    x = layers.AveragePooling2D(2)(x)\n",
    "    x = basic_conv_block(x, 256, 3, 3)\n",
    "    x = layers.GlobalAvgPool2D()(x)\n",
    "    x = layers.Dense(10)(x)\n",
    "    x = layers.Activation('softmax')(x)\n",
    "\n",
    "    model = Model(input, x)\n",
    "    return model\n",
    "\n",
    "def create_residual_cnn(SHAPE,channel):\n",
    "    input = Input(shape=(SHAPE,SHAPE,channel))\n",
    "    x = residual_SE_conv_block(input, 64, 5, 1)\n",
    "    x = layers.AveragePooling2D(2)(x)\n",
    "    x = residual_SE_conv_block(x, 128, 3, 3)\n",
    "    x = layers.AveragePooling2D(2)(x)\n",
    "    x = residual_SE_conv_block(x, 256, 3, 3)\n",
    "    x = layers.GlobalAvgPool2D()(x)\n",
    "    x = layers.Dense(10)(x)\n",
    "    x = layers.Activation('softmax')(x)\n",
    "\n",
    "    model = Model(input, x)\n",
    "    return model\n",
    "\n",
    "\n",
    "from tensorflow.keras.callbacks import History, Callback\n",
    "from tensorflow.keras.metrics import categorical_crossentropy\n",
    "from sklearn.metrics import confusion_matrix, accuracy_score, precision_score\n",
    "import os, pickle\n",
    "import tensorflow.keras.backend as K\n",
    "\n",
    "# 確率の平均を取るアンサンブル（ソフトアンサンブル）\n",
    "def ensembling_soft(models, X):\n",
    "    preds_sum = None\n",
    "    for model in models:\n",
    "        if preds_sum is None:\n",
    "            preds_sum = model.predict(X)\n",
    "        else:\n",
    "            preds_sum += model.predict(X)\n",
    "    probs = preds_sum / len(models)\n",
    "    return to_categorical(np.argmax(probs, axis=1), num_classes=10)\n",
    "\n",
    "# 多数決のアンサンブル（ハードアンサンブル）\n",
    "def ensembling_hard(models, X):\n",
    "    pred_labels = np.zeros((X.shape[0], len(models)))\n",
    "    for i, model in enumerate(models):\n",
    "        pred_labels[:, i] = np.argmax(model.predict(X), axis=1)\n",
    "    return to_categorical(mode(pred_labels, axis=1)[0], num_classes=10)\n",
    "\n",
    "class Checkpoint(Callback):\n",
    "    def __init__(self, model, filepath):\n",
    "        self.model = model\n",
    "        self.filepath = filepath\n",
    "        self.best_val_acc = 0.0\n",
    "\n",
    "    def on_epoch_end(self, epoch, logs):\n",
    "        if self.best_val_acc < logs[\"val_acc\"]:\n",
    "            self.model.save_weights(self.filepath, save_format=\"h5\")\n",
    "            self.best_val_acc = logs[\"val_acc\"]\n",
    "            print(\"Weights saved.\", self.best_val_acc)"
   ]
  },
  {
   "cell_type": "code",
   "execution_count": 5,
   "metadata": {},
   "outputs": [
    {
     "name": "stdout",
     "output_type": "stream",
     "text": [
      "Model: \"model\"\n",
      "_________________________________________________________________\n",
      "Layer (type)                 Output Shape              Param #   \n",
      "=================================================================\n",
      "input_1 (InputLayer)         [(None, 32, 32, 3)]       0         \n",
      "_________________________________________________________________\n",
      "conv2d (Conv2D)              (None, 32, 32, 64)        4864      \n",
      "_________________________________________________________________\n",
      "batch_normalization (BatchNo (None, 32, 32, 64)        256       \n",
      "_________________________________________________________________\n",
      "activation (Activation)      (None, 32, 32, 64)        0         \n",
      "_________________________________________________________________\n",
      "average_pooling2d (AveragePo (None, 16, 16, 64)        0         \n",
      "_________________________________________________________________\n",
      "conv2d_1 (Conv2D)            (None, 16, 16, 128)       73856     \n",
      "_________________________________________________________________\n",
      "batch_normalization_1 (Batch (None, 16, 16, 128)       512       \n",
      "_________________________________________________________________\n",
      "activation_1 (Activation)    (None, 16, 16, 128)       0         \n",
      "_________________________________________________________________\n",
      "conv2d_2 (Conv2D)            (None, 16, 16, 128)       147584    \n",
      "_________________________________________________________________\n",
      "batch_normalization_2 (Batch (None, 16, 16, 128)       512       \n",
      "_________________________________________________________________\n",
      "activation_2 (Activation)    (None, 16, 16, 128)       0         \n",
      "_________________________________________________________________\n",
      "conv2d_3 (Conv2D)            (None, 16, 16, 128)       147584    \n",
      "_________________________________________________________________\n",
      "batch_normalization_3 (Batch (None, 16, 16, 128)       512       \n",
      "_________________________________________________________________\n",
      "activation_3 (Activation)    (None, 16, 16, 128)       0         \n",
      "_________________________________________________________________\n",
      "average_pooling2d_1 (Average (None, 8, 8, 128)         0         \n",
      "_________________________________________________________________\n",
      "conv2d_4 (Conv2D)            (None, 8, 8, 256)         295168    \n",
      "_________________________________________________________________\n",
      "batch_normalization_4 (Batch (None, 8, 8, 256)         1024      \n",
      "_________________________________________________________________\n",
      "activation_4 (Activation)    (None, 8, 8, 256)         0         \n",
      "_________________________________________________________________\n",
      "conv2d_5 (Conv2D)            (None, 8, 8, 256)         590080    \n",
      "_________________________________________________________________\n",
      "batch_normalization_5 (Batch (None, 8, 8, 256)         1024      \n",
      "_________________________________________________________________\n",
      "activation_5 (Activation)    (None, 8, 8, 256)         0         \n",
      "_________________________________________________________________\n",
      "conv2d_6 (Conv2D)            (None, 8, 8, 256)         590080    \n",
      "_________________________________________________________________\n",
      "batch_normalization_6 (Batch (None, 8, 8, 256)         1024      \n",
      "_________________________________________________________________\n",
      "activation_6 (Activation)    (None, 8, 8, 256)         0         \n",
      "_________________________________________________________________\n",
      "global_average_pooling2d (Gl (None, 256)               0         \n",
      "_________________________________________________________________\n",
      "dense (Dense)                (None, 10)                2570      \n",
      "_________________________________________________________________\n",
      "activation_7 (Activation)    (None, 10)                0         \n",
      "=================================================================\n",
      "Total params: 1,856,650\n",
      "Trainable params: 1,854,218\n",
      "Non-trainable params: 2,432\n",
      "_________________________________________________________________\n"
     ]
    }
   ],
   "source": [
    "vers = 1\n",
    "SHAPE=32\n",
    "channel=3\n",
    "teacher_model = create_cnn(SHAPE,channel)\n",
    "teacher_model.summary()"
   ]
  },
  {
   "cell_type": "code",
   "execution_count": 6,
   "metadata": {},
   "outputs": [
    {
     "name": "stdout",
     "output_type": "stream",
     "text": [
      "Train on 37500 samples, validate on 12500 samples\n",
      "\n",
      "Epoch 00001: LearningRateScheduler setting learning rate to 2e-05.\n",
      "Epoch 1/30\n",
      "37408/37500 [============================>.] - ETA: 0s - loss: 1.5741 - acc: 0.4266Weights saved. 0.491875\n",
      "37500/37500 [==============================] - 18s 493us/sample - loss: 1.5740 - acc: 0.4267 - val_loss: 0.1819 - val_acc: 0.4919\n",
      "\n",
      "Epoch 00002: LearningRateScheduler setting learning rate to 4e-05.\n",
      "Epoch 2/30\n",
      "37472/37500 [============================>.] - ETA: 0s - loss: 1.2216 - acc: 0.5629Weights saved. 0.573125\n",
      "37500/37500 [==============================] - 11s 302us/sample - loss: 1.2214 - acc: 0.5630 - val_loss: 0.1561 - val_acc: 0.5731\n",
      "\n",
      "Epoch 00003: LearningRateScheduler setting learning rate to 6e-05.\n",
      "Epoch 3/30\n",
      "37376/37500 [============================>.] - ETA: 0s - loss: 1.0428 - acc: 0.6331Weights saved. 0.625\n",
      "37500/37500 [==============================] - 11s 303us/sample - loss: 1.0426 - acc: 0.6331 - val_loss: 0.1374 - val_acc: 0.6250\n",
      "\n",
      "Epoch 00004: LearningRateScheduler setting learning rate to 8e-05.\n",
      "Epoch 4/30\n",
      "37500/37500 [==============================] - 11s 300us/sample - loss: 0.9034 - acc: 0.6829 - val_loss: 0.1462 - val_acc: 0.6012\n",
      "\n",
      "Epoch 00005: LearningRateScheduler setting learning rate to 0.0001.\n",
      "Epoch 5/30\n",
      "37376/37500 [============================>.] - ETA: 0s - loss: 0.7957 - acc: 0.7231Weights saved. 0.655\n",
      "37500/37500 [==============================] - 11s 303us/sample - loss: 0.7961 - acc: 0.7229 - val_loss: 0.1268 - val_acc: 0.6550\n",
      "\n",
      "Epoch 00006: LearningRateScheduler setting learning rate to 9.972609476841367e-05.\n",
      "Epoch 6/30\n",
      "37500/37500 [==============================] - 14s 367us/sample - loss: 0.6799 - acc: 0.7619 - val_loss: 0.1335 - val_acc: 0.6400\n",
      "\n",
      "Epoch 00007: LearningRateScheduler setting learning rate to 9.890738003669029e-05.\n",
      "Epoch 7/30\n",
      "37500/37500 [==============================] - 11s 299us/sample - loss: 0.5841 - acc: 0.7992 - val_loss: 0.1891 - val_acc: 0.5437\n",
      "\n",
      "Epoch 00008: LearningRateScheduler setting learning rate to 9.755282581475769e-05.\n",
      "Epoch 8/30\n",
      "37500/37500 [==============================] - 11s 300us/sample - loss: 0.4967 - acc: 0.8316 - val_loss: 0.1464 - val_acc: 0.6375\n",
      "\n",
      "Epoch 00009: LearningRateScheduler setting learning rate to 9.567727288213005e-05.\n",
      "Epoch 9/30\n",
      "37440/37500 [============================>.] - ETA: 0s - loss: 0.4168 - acc: 0.8571Weights saved. 0.67875\n",
      "37500/37500 [==============================] - 11s 296us/sample - loss: 0.4168 - acc: 0.8571 - val_loss: 0.1267 - val_acc: 0.6787\n",
      "\n",
      "Epoch 00010: LearningRateScheduler setting learning rate to 9.330127018922194e-05.\n",
      "Epoch 10/30\n",
      "37408/37500 [============================>.] - ETA: 0s - loss: 0.3481 - acc: 0.8836Weights saved. 0.74375\n",
      "37500/37500 [==============================] - 11s 304us/sample - loss: 0.3482 - acc: 0.8835 - val_loss: 0.1002 - val_acc: 0.7437\n",
      "\n",
      "Epoch 00011: LearningRateScheduler setting learning rate to 9.045084971874738e-05.\n",
      "Epoch 11/30\n",
      "37500/37500 [==============================] - 11s 296us/sample - loss: 0.2797 - acc: 0.9071 - val_loss: 0.1554 - val_acc: 0.6650\n",
      "\n",
      "Epoch 00012: LearningRateScheduler setting learning rate to 8.715724127386972e-05.\n",
      "Epoch 12/30\n",
      "37500/37500 [==============================] - 11s 297us/sample - loss: 0.2227 - acc: 0.9287 - val_loss: 0.1422 - val_acc: 0.6675\n",
      "\n",
      "Epoch 00013: LearningRateScheduler setting learning rate to 8.345653031794292e-05.\n",
      "Epoch 13/30\n",
      "37500/37500 [==============================] - 11s 297us/sample - loss: 0.1739 - acc: 0.9450 - val_loss: 0.1327 - val_acc: 0.7100\n",
      "\n",
      "Epoch 00014: LearningRateScheduler setting learning rate to 7.938926261462366e-05.\n",
      "Epoch 14/30\n",
      "37500/37500 [==============================] - 11s 299us/sample - loss: 0.1334 - acc: 0.9611 - val_loss: 0.2432 - val_acc: 0.5594\n",
      "\n",
      "Epoch 00015: LearningRateScheduler setting learning rate to 7.500000000000001e-05.\n",
      "Epoch 15/30\n",
      "37500/37500 [==============================] - 11s 298us/sample - loss: 0.1044 - acc: 0.9705 - val_loss: 0.1583 - val_acc: 0.6694\n",
      "\n",
      "Epoch 00016: LearningRateScheduler setting learning rate to 7.033683215379002e-05.\n",
      "Epoch 16/30\n",
      "37500/37500 [==============================] - 11s 296us/sample - loss: 0.0768 - acc: 0.9789 - val_loss: 0.1225 - val_acc: 0.7419\n",
      "\n",
      "Epoch 00017: LearningRateScheduler setting learning rate to 6.545084971874738e-05.\n",
      "Epoch 17/30\n",
      "37440/37500 [============================>.] - ETA: 0s - loss: 0.0632 - acc: 0.9841Weights saved. 0.7475\n",
      "37500/37500 [==============================] - 11s 301us/sample - loss: 0.0632 - acc: 0.9841 - val_loss: 0.1315 - val_acc: 0.7475\n",
      "\n",
      "Epoch 00018: LearningRateScheduler setting learning rate to 6.0395584540887963e-05.\n",
      "Epoch 18/30\n",
      "37472/37500 [============================>.] - ETA: 0s - loss: 0.0470 - acc: 0.9888Weights saved. 0.754375\n",
      "37500/37500 [==============================] - 11s 300us/sample - loss: 0.0470 - acc: 0.9887 - val_loss: 0.1285 - val_acc: 0.7544\n",
      "\n",
      "Epoch 00019: LearningRateScheduler setting learning rate to 5.522642316338268e-05.\n",
      "Epoch 19/30\n",
      "37500/37500 [==============================] - 11s 299us/sample - loss: 0.0352 - acc: 0.9923 - val_loss: 0.1358 - val_acc: 0.7450\n",
      "\n",
      "Epoch 00020: LearningRateScheduler setting learning rate to 5.0000000000000016e-05.\n",
      "Epoch 20/30\n",
      "37500/37500 [==============================] - 11s 302us/sample - loss: 0.0266 - acc: 0.9950 - val_loss: 0.1411 - val_acc: 0.7406\n",
      "\n",
      "Epoch 00021: LearningRateScheduler setting learning rate to 4.477357683661734e-05.\n",
      "Epoch 21/30\n",
      "37440/37500 [============================>.] - ETA: 0s - loss: 0.0239 - acc: 0.9952Weights saved. 0.765\n",
      "37500/37500 [==============================] - 11s 299us/sample - loss: 0.0240 - acc: 0.9952 - val_loss: 0.1168 - val_acc: 0.7650\n",
      "\n",
      "Epoch 00022: LearningRateScheduler setting learning rate to 3.9604415459112035e-05.\n",
      "Epoch 22/30\n",
      "37376/37500 [============================>.] - ETA: 0s - loss: 0.0175 - acc: 0.9972Weights saved. 0.78375\n",
      "37500/37500 [==============================] - 11s 301us/sample - loss: 0.0175 - acc: 0.9973 - val_loss: 0.1147 - val_acc: 0.7837\n",
      "\n",
      "Epoch 00023: LearningRateScheduler setting learning rate to 3.4549150281252636e-05.\n",
      "Epoch 23/30\n",
      "37500/37500 [==============================] - 11s 301us/sample - loss: 0.0117 - acc: 0.9985 - val_loss: 0.1297 - val_acc: 0.7781\n",
      "\n",
      "Epoch 00024: LearningRateScheduler setting learning rate to 2.9663167846209998e-05.\n",
      "Epoch 24/30\n",
      "37500/37500 [==============================] - 11s 298us/sample - loss: 0.0096 - acc: 0.9987 - val_loss: 0.1145 - val_acc: 0.7763\n",
      "\n",
      "Epoch 00025: LearningRateScheduler setting learning rate to 2.500000000000001e-05.\n",
      "Epoch 25/30\n",
      "37472/37500 [============================>.] - ETA: 0s - loss: 0.0063 - acc: 0.9995Weights saved. 0.796875\n",
      "37500/37500 [==============================] - 11s 301us/sample - loss: 0.0063 - acc: 0.9995 - val_loss: 0.1108 - val_acc: 0.7969\n",
      "\n",
      "Epoch 00026: LearningRateScheduler setting learning rate to 2.061073738537635e-05.\n",
      "Epoch 26/30\n",
      "37500/37500 [==============================] - 11s 296us/sample - loss: 0.0053 - acc: 0.9997 - val_loss: 0.1232 - val_acc: 0.7806\n",
      "\n",
      "Epoch 00027: LearningRateScheduler setting learning rate to 1.6543469682057106e-05.\n",
      "Epoch 27/30\n",
      "37500/37500 [==============================] - 11s 299us/sample - loss: 0.0038 - acc: 0.9998 - val_loss: 0.1293 - val_acc: 0.7744\n",
      "\n",
      "Epoch 00028: LearningRateScheduler setting learning rate to 1.2842758726130299e-05.\n",
      "Epoch 28/30\n",
      "37472/37500 [============================>.] - ETA: 0s - loss: 0.0028 - acc: 0.9999Weights saved. 0.809375\n",
      "37500/37500 [==============================] - 11s 294us/sample - loss: 0.0028 - acc: 0.9999 - val_loss: 0.1012 - val_acc: 0.8094\n",
      "\n",
      "Epoch 00029: LearningRateScheduler setting learning rate to 9.549150281252633e-06.\n",
      "Epoch 29/30\n",
      "37440/37500 [============================>.] - ETA: 0s - loss: 0.0023 - acc: 1.0000Weights saved. 0.81625\n",
      "37500/37500 [==============================] - 11s 302us/sample - loss: 0.0023 - acc: 1.0000 - val_loss: 0.1005 - val_acc: 0.8163\n",
      "\n",
      "Epoch 00030: LearningRateScheduler setting learning rate to 6.698729810778065e-06.\n",
      "Epoch 30/30\n",
      "37500/37500 [==============================] - 11s 300us/sample - loss: 0.0021 - acc: 0.9999 - val_loss: 0.1012 - val_acc: 0.8081\n"
     ]
    }
   ],
   "source": [
    "teacher_model.compile(optimizer=optimizers.Adam(lr=1e-4), loss='categorical_crossentropy',metrics=['acc'])\n",
    "\n",
    "EPOCHS = 30\n",
    "csv_logger = CSVLogger('distill_trlog_{}'.format(vers), separator=',', append=False)\n",
    "\n",
    "early_stopping = EarlyStopping(monitor=\"val_acc\", patience=8)\n",
    "reduce_lr = ReduceLROnPlateau(monitor=\"val_loss\", factor=0.5, patience=2, min_lr=1e-5)\n",
    "learning_rate = LearningRateScheduler(step_decay,verbose=1)\n",
    "cp = Checkpoint(teacher_model, f\"weights{vers}.hdf5\")\n",
    "\n",
    "history = teacher_model.fit(x=x_train,\n",
    "                    y=y_train,\n",
    "                    epochs=EPOCHS,\n",
    "                    validation_data=(x_val,y_val),\n",
    "                    validation_steps=50,\n",
    "                    use_multiprocessing=True,\n",
    "                    workers=4,\n",
    "                    callbacks=[cp,\n",
    "                                early_stopping,\n",
    "                               csv_logger,\n",
    "                                learning_rate\n",
    "                              ]\n",
    "                    )"
   ]
  },
  {
   "cell_type": "code",
   "execution_count": 7,
   "metadata": {},
   "outputs": [
    {
     "name": "stdout",
     "output_type": "stream",
     "text": [
      "version: 1 best val score 0.81625\n"
     ]
    },
    {
     "data": {
      "image/png": "[encoded data removed]",
      "text/plain": [
       "<Figure size 432x288 with 1 Axes>"
      ]
     },
     "metadata": {
      "needs_background": "light"
     },
     "output_type": "display_data"
    },
    {
     "data": {
      "image/png": "[encoded data removed]",
      "text/plain": [
       "<Figure size 432x288 with 1 Axes>"
      ]
     },
     "metadata": {
      "needs_background": "light"
     },
     "output_type": "display_data"
    }
   ],
   "source": [
    "log_data = pd.read_csv('distill_trlog_{}'.format(vers), sep=',', engine='python')\n",
    "print('version:',vers,'best val score',np.max(log_data.val_acc))\n",
    "\n",
    "plt.plot(log_data.index,log_data.acc,'o',label='train acc')\n",
    "plt.plot(log_data.index,log_data.val_acc,label='val acc')\n",
    "plt.legend()\n",
    "plt.show()\n",
    "plt.plot(log_data.index,log_data.loss,'o',label='train loss')\n",
    "plt.plot(log_data.index,log_data.val_loss,label='val loss')\n",
    "plt.legend()\n",
    "plt.show()"
   ]
  },
  {
   "cell_type": "code",
   "execution_count": 9,
   "metadata": {},
   "outputs": [
    {
     "name": "stdout",
     "output_type": "stream",
     "text": [
      "10000/10000 [==============================] - 1s 148us/sample - loss: 0.7263 - acc: 0.8250\n"
     ]
    },
    {
     "data": {
      "text/plain": [
       "[0.726259511756897, 0.825]"
      ]
     },
     "execution_count": 9,
     "metadata": {},
     "output_type": "execute_result"
    }
   ],
   "source": [
    "teacher_model.evaluate(x_test, y_test) #loss/acc"
   ]
  },
  {
   "cell_type": "code",
   "execution_count": 10,
   "metadata": {},
   "outputs": [
    {
     "name": "stdout",
     "output_type": "stream",
     "text": [
      "Model: \"sequential\"\n",
      "_________________________________________________________________\n",
      "Layer (type)                 Output Shape              Param #   \n",
      "=================================================================\n",
      "conv2d (Conv2D)              (None, 32, 32, 64)        4864      \n",
      "_________________________________________________________________\n",
      "batch_normalization (BatchNo (None, 32, 32, 64)        256       \n",
      "_________________________________________________________________\n",
      "activation (Activation)      (None, 32, 32, 64)        0         \n",
      "_________________________________________________________________\n",
      "average_pooling2d (AveragePo (None, 16, 16, 64)        0         \n",
      "_________________________________________________________________\n",
      "conv2d_1 (Conv2D)            (None, 16, 16, 128)       73856     \n",
      "_________________________________________________________________\n",
      "batch_normalization_1 (Batch (None, 16, 16, 128)       512       \n",
      "_________________________________________________________________\n",
      "activation_1 (Activation)    (None, 16, 16, 128)       0         \n",
      "_________________________________________________________________\n",
      "conv2d_2 (Conv2D)            (None, 16, 16, 128)       147584    \n",
      "_________________________________________________________________\n",
      "batch_normalization_2 (Batch (None, 16, 16, 128)       512       \n",
      "_________________________________________________________________\n",
      "activation_2 (Activation)    (None, 16, 16, 128)       0         \n",
      "_________________________________________________________________\n",
      "conv2d_3 (Conv2D)            (None, 16, 16, 128)       147584    \n",
      "_________________________________________________________________\n",
      "batch_normalization_3 (Batch (None, 16, 16, 128)       512       \n",
      "_________________________________________________________________\n",
      "activation_3 (Activation)    (None, 16, 16, 128)       0         \n",
      "_________________________________________________________________\n",
      "average_pooling2d_1 (Average (None, 8, 8, 128)         0         \n",
      "_________________________________________________________________\n",
      "conv2d_4 (Conv2D)            (None, 8, 8, 256)         295168    \n",
      "_________________________________________________________________\n",
      "batch_normalization_4 (Batch (None, 8, 8, 256)         1024      \n",
      "_________________________________________________________________\n",
      "activation_4 (Activation)    (None, 8, 8, 256)         0         \n",
      "_________________________________________________________________\n",
      "conv2d_5 (Conv2D)            (None, 8, 8, 256)         590080    \n",
      "_________________________________________________________________\n",
      "batch_normalization_5 (Batch (None, 8, 8, 256)         1024      \n",
      "_________________________________________________________________\n",
      "activation_5 (Activation)    (None, 8, 8, 256)         0         \n",
      "_________________________________________________________________\n",
      "conv2d_6 (Conv2D)            (None, 8, 8, 256)         590080    \n",
      "_________________________________________________________________\n",
      "batch_normalization_6 (Batch (None, 8, 8, 256)         1024      \n",
      "_________________________________________________________________\n",
      "activation_6 (Activation)    (None, 8, 8, 256)         0         \n",
      "_________________________________________________________________\n",
      "global_average_pooling2d (Gl (None, 256)               0         \n",
      "_________________________________________________________________\n",
      "dense (Dense)                (None, 10)                2570      \n",
      "=================================================================\n",
      "Total params: 1,856,650\n",
      "Trainable params: 0\n",
      "Non-trainable params: 1,856,650\n",
      "_________________________________________________________________\n"
     ]
    }
   ],
   "source": [
    "model = Sequential()\n",
    "for layer in teacher_model.layers[:-1]: # just exclude last layer from copying\n",
    "    model.add(layer)\n",
    "for layer in model.layers:\n",
    "    layer.trainable = False\n",
    "teacher = model\n",
    "teacher.summary()"
   ]
  },
  {
   "cell_type": "code",
   "execution_count": 32,
   "metadata": {},
   "outputs": [
    {
     "name": "stdout",
     "output_type": "stream",
     "text": [
      "Model: \"model_6\"\n",
      "_________________________________________________________________\n",
      "Layer (type)                 Output Shape              Param #   \n",
      "=================================================================\n",
      "input_8 (InputLayer)         [(None, 32, 32, 3)]       0         \n",
      "_________________________________________________________________\n",
      "conv2d_32 (Conv2D)           (None, 32, 32, 64)        4864      \n",
      "_________________________________________________________________\n",
      "batch_normalization_32 (Batc (None, 32, 32, 64)        256       \n",
      "_________________________________________________________________\n",
      "activation_35 (Activation)   (None, 32, 32, 64)        0         \n",
      "_________________________________________________________________\n",
      "average_pooling2d_12 (Averag (None, 16, 16, 64)        0         \n",
      "_________________________________________________________________\n",
      "conv2d_33 (Conv2D)           (None, 16, 16, 128)       73856     \n",
      "_________________________________________________________________\n",
      "batch_normalization_33 (Batc (None, 16, 16, 128)       512       \n",
      "_________________________________________________________________\n",
      "activation_36 (Activation)   (None, 16, 16, 128)       0         \n",
      "_________________________________________________________________\n",
      "conv2d_34 (Conv2D)           (None, 16, 16, 128)       147584    \n",
      "_________________________________________________________________\n",
      "batch_normalization_34 (Batc (None, 16, 16, 128)       512       \n",
      "_________________________________________________________________\n",
      "activation_37 (Activation)   (None, 16, 16, 128)       0         \n",
      "_________________________________________________________________\n",
      "average_pooling2d_13 (Averag (None, 8, 8, 128)         0         \n",
      "_________________________________________________________________\n",
      "conv2d_35 (Conv2D)           (None, 8, 8, 256)         295168    \n",
      "_________________________________________________________________\n",
      "batch_normalization_35 (Batc (None, 8, 8, 256)         1024      \n",
      "_________________________________________________________________\n",
      "activation_38 (Activation)   (None, 8, 8, 256)         0         \n",
      "_________________________________________________________________\n",
      "conv2d_36 (Conv2D)           (None, 8, 8, 256)         590080    \n",
      "_________________________________________________________________\n",
      "batch_normalization_36 (Batc (None, 8, 8, 256)         1024      \n",
      "_________________________________________________________________\n",
      "activation_39 (Activation)   (None, 8, 8, 256)         0         \n",
      "_________________________________________________________________\n",
      "global_average_pooling2d_6 ( (None, 256)               0         \n",
      "_________________________________________________________________\n",
      "dense_6 (Dense)              (None, 10)                2570      \n",
      "_________________________________________________________________\n",
      "activation_40 (Activation)   (None, 10)                0         \n",
      "=================================================================\n",
      "Total params: 1,117,450\n",
      "Trainable params: 1,115,786\n",
      "Non-trainable params: 1,664\n",
      "_________________________________________________________________\n"
     ]
    }
   ],
   "source": [
    "def create_cnn_st(SHAPE,channel):\n",
    "    input = Input(shape=(SHAPE,SHAPE,channel))\n",
    "    x = basic_conv_block(input, 64, 5, 1)\n",
    "    x = layers.AveragePooling2D(2)(x)\n",
    "    x = basic_conv_block(x, 128, 3, 2)  ##repsを3から2に\n",
    "    x = layers.AveragePooling2D(2)(x)\n",
    "    x = basic_conv_block(x, 256, 3, 2)  ##repsを3から2に\n",
    "    x = layers.GlobalAvgPool2D()(x)\n",
    "    x = layers.Dense(10)(x)\n",
    "    x = layers.Activation(\"softmax\")(x)\n",
    "\n",
    "    model = Model(input, x)\n",
    "    return model\n",
    "\n",
    "\n",
    "vers = 4\n",
    "\n",
    "student = create_cnn_st(SHAPE,channel)\n",
    "student.summary()"
   ]
  },
  {
   "cell_type": "code",
   "execution_count": 13,
   "metadata": {},
   "outputs": [
    {
     "name": "stdout",
     "output_type": "stream",
     "text": [
      "Train on 37500 samples, validate on 12500 samples\n",
      "\n",
      "Epoch 00001: LearningRateScheduler setting learning rate to 2e-05.\n",
      "Epoch 1/30\n",
      "37376/37500 [============================>.] - ETA: 0s - loss: 6.9505 - acc: 0.1169Weights saved. 0.17125\n",
      "37500/37500 [==============================] - 11s 292us/sample - loss: 6.9494 - acc: 0.1170 - val_loss: 0.9709 - val_acc: 0.1713\n",
      "\n",
      "Epoch 00002: LearningRateScheduler setting learning rate to 4e-05.\n",
      "Epoch 2/30\n",
      "37500/37500 [==============================] - 10s 266us/sample - loss: 6.0023 - acc: 0.1558 - val_loss: 0.5843 - val_acc: 0.1231\n",
      "\n",
      "Epoch 00003: LearningRateScheduler setting learning rate to 6e-05.\n",
      "Epoch 3/30\n",
      "37500/37500 [==============================] - 10s 265us/sample - loss: 3.8283 - acc: 0.0793 - val_loss: 0.4164 - val_acc: 0.0650\n",
      "\n",
      "Epoch 00004: LearningRateScheduler setting learning rate to 8e-05.\n",
      "Epoch 4/30\n",
      "37500/37500 [==============================] - 10s 264us/sample - loss: 2.9575 - acc: 0.0748 - val_loss: 0.3656 - val_acc: 0.0781\n",
      "\n",
      "Epoch 00005: LearningRateScheduler setting learning rate to 0.0001.\n",
      "Epoch 5/30\n",
      "37500/37500 [==============================] - 10s 267us/sample - loss: 2.9189 - acc: 0.0806 - val_loss: 0.3600 - val_acc: 0.0806\n",
      "\n",
      "Epoch 00006: LearningRateScheduler setting learning rate to 9.972609476841367e-05.\n",
      "Epoch 6/30\n",
      "37500/37500 [==============================] - 10s 258us/sample - loss: 2.8127 - acc: 0.0707 - val_loss: 0.3260 - val_acc: 0.0681\n",
      "\n",
      "Epoch 00007: LearningRateScheduler setting learning rate to 9.890738003669029e-05.\n",
      "Epoch 7/30\n",
      "37500/37500 [==============================] - 10s 267us/sample - loss: 2.4541 - acc: 0.0536 - val_loss: 0.3051 - val_acc: 0.0794\n",
      "\n",
      "Epoch 00008: LearningRateScheduler setting learning rate to 9.755282581475769e-05.\n",
      "Epoch 8/30\n",
      "37500/37500 [==============================] - 10s 267us/sample - loss: 2.9531 - acc: 0.0906 - val_loss: 0.3415 - val_acc: 0.1200\n",
      "\n",
      "Epoch 00009: LearningRateScheduler setting learning rate to 9.567727288213005e-05.\n",
      "Epoch 9/30\n",
      "37500/37500 [==============================] - 10s 264us/sample - loss: 2.6273 - acc: 0.0797 - val_loss: 0.3397 - val_acc: 0.0800\n"
     ]
    }
   ],
   "source": [
    "#普通に学習\n",
    "\n",
    "student.compile(optimizer=optimizers.Adam(lr=1e-4), loss='categorical_crossentropy',metrics=['acc'])\n",
    "\n",
    "EPOCHS = 30\n",
    "csv_logger = CSVLogger('distill_trlog_{}'.format(vers), separator=',', append=False)\n",
    "\n",
    "early_stopping = EarlyStopping(monitor=\"val_acc\", patience=8)\n",
    "reduce_lr = ReduceLROnPlateau(monitor=\"val_loss\", factor=0.5, patience=2, min_lr=1e-5)\n",
    "learning_rate = LearningRateScheduler(step_decay,verbose=1)\n",
    "cp = Checkpoint(student, f\"weights{vers}.hdf5\")\n",
    "\n",
    "history = student.fit(x=x_train,\n",
    "                    y=y_train,\n",
    "                    epochs=EPOCHS,\n",
    "                    validation_data=(x_val,y_val),\n",
    "                    validation_steps=50,\n",
    "                    use_multiprocessing=True,\n",
    "                    workers=4,\n",
    "                    callbacks=[cp,\n",
    "                                early_stopping,\n",
    "                               csv_logger,\n",
    "                                learning_rate\n",
    "                              ]\n",
    "                    )"
   ]
  },
  {
   "cell_type": "code",
   "execution_count": 14,
   "metadata": {},
   "outputs": [
    {
     "name": "stdout",
     "output_type": "stream",
     "text": [
      "version: 4 best val score 0.17125\n"
     ]
    },
    {
     "data": {
      "image/png": "[encoded data removed]",
      "text/plain": [
       "<Figure size 432x288 with 1 Axes>"
      ]
     },
     "metadata": {
      "needs_background": "light"
     },
     "output_type": "display_data"
    },
    {
     "data": {
      "image/png": "[encoded data removed]",
      "text/plain": [
       "<Figure size 432x288 with 1 Axes>"
      ]
     },
     "metadata": {
      "needs_background": "light"
     },
     "output_type": "display_data"
    }
   ],
   "source": [
    "log_data = pd.read_csv('distill_trlog_{}'.format(vers), sep=',', engine='python')\n",
    "print('version:',vers,'best val score',np.max(log_data.val_acc))\n",
    "\n",
    "plt.plot(log_data.index,log_data.acc,'o',label='train acc')\n",
    "plt.plot(log_data.index,log_data.val_acc,label='val acc')\n",
    "plt.legend()\n",
    "plt.show()\n",
    "plt.plot(log_data.index,log_data.loss,'o',label='train loss')\n",
    "plt.plot(log_data.index,log_data.val_loss,label='val loss')\n",
    "plt.legend()\n",
    "plt.show()"
   ]
  },
  {
   "cell_type": "code",
   "execution_count": 15,
   "metadata": {},
   "outputs": [
    {
     "name": "stdout",
     "output_type": "stream",
     "text": [
      "10000/10000 [==============================] - 1s 112us/sample - loss: 2.7098 - acc: 0.0899\n"
     ]
    },
    {
     "data": {
      "text/plain": [
       "[2.7098274520874024, 0.0899]"
      ]
     },
     "execution_count": 15,
     "metadata": {},
     "output_type": "execute_result"
    }
   ],
   "source": [
    "student.evaluate(x_test, y_test) #loss/acc"
   ]
  },
  {
   "cell_type": "code",
   "execution_count": 33,
   "metadata": {},
   "outputs": [
    {
     "name": "stdout",
     "output_type": "stream",
     "text": [
      "Model: \"sequential_4\"\n",
      "_________________________________________________________________\n",
      "Layer (type)                 Output Shape              Param #   \n",
      "=================================================================\n",
      "conv2d_37 (Conv2D)           (None, 32, 32, 64)        4864      \n",
      "_________________________________________________________________\n",
      "batch_normalization_37 (Batc (None, 32, 32, 64)        256       \n",
      "_________________________________________________________________\n",
      "activation_41 (Activation)   (None, 32, 32, 64)        0         \n",
      "_________________________________________________________________\n",
      "average_pooling2d_14 (Averag (None, 16, 16, 64)        0         \n",
      "_________________________________________________________________\n",
      "conv2d_38 (Conv2D)           (None, 16, 16, 128)       73856     \n",
      "_________________________________________________________________\n",
      "batch_normalization_38 (Batc (None, 16, 16, 128)       512       \n",
      "_________________________________________________________________\n",
      "activation_42 (Activation)   (None, 16, 16, 128)       0         \n",
      "_________________________________________________________________\n",
      "conv2d_39 (Conv2D)           (None, 16, 16, 128)       147584    \n",
      "_________________________________________________________________\n",
      "batch_normalization_39 (Batc (None, 16, 16, 128)       512       \n",
      "_________________________________________________________________\n",
      "activation_43 (Activation)   (None, 16, 16, 128)       0         \n",
      "_________________________________________________________________\n",
      "average_pooling2d_15 (Averag (None, 8, 8, 128)         0         \n",
      "_________________________________________________________________\n",
      "conv2d_40 (Conv2D)           (None, 8, 8, 256)         295168    \n",
      "_________________________________________________________________\n",
      "batch_normalization_40 (Batc (None, 8, 8, 256)         1024      \n",
      "_________________________________________________________________\n",
      "activation_44 (Activation)   (None, 8, 8, 256)         0         \n",
      "_________________________________________________________________\n",
      "conv2d_41 (Conv2D)           (None, 8, 8, 256)         590080    \n",
      "_________________________________________________________________\n",
      "batch_normalization_41 (Batc (None, 8, 8, 256)         1024      \n",
      "_________________________________________________________________\n",
      "activation_45 (Activation)   (None, 8, 8, 256)         0         \n",
      "_________________________________________________________________\n",
      "global_average_pooling2d_7 ( (None, 256)               0         \n",
      "_________________________________________________________________\n",
      "dense_7 (Dense)              (None, 10)                2570      \n",
      "=================================================================\n",
      "Total params: 1,117,450\n",
      "Trainable params: 1,115,786\n",
      "Non-trainable params: 1,664\n",
      "_________________________________________________________________\n"
     ]
    }
   ],
   "source": [
    "student = create_cnn_st(SHAPE,channel)\n",
    "\n",
    "model = Sequential()\n",
    "for layer in student.layers[:-1]: # just exclude last layer from copying\n",
    "    model.add(layer)\n",
    "#for layer in model.layers:\n",
    "    #layer.trainable = False\n",
    "student = model\n",
    "student.summary()"
   ]
  },
  {
   "cell_type": "code",
   "execution_count": 34,
   "metadata": {},
   "outputs": [
    {
     "name": "stdout",
     "output_type": "stream",
     "text": [
      "Model: \"model_8\"\n",
      "__________________________________________________________________________________________________\n",
      "Layer (type)                    Output Shape         Param #     Connected to                     \n",
      "==================================================================================================\n",
      "input_10 (InputLayer)           [(None, 32, 32, 3)]  0                                            \n",
      "__________________________________________________________________________________________________\n",
      "sequential_4 (Sequential)       (None, 10)           1117450     input_10[0][0]                   \n",
      "__________________________________________________________________________________________________\n",
      "model (Model)                   (None, 10)           1856650     input_10[0][0]                   \n",
      "__________________________________________________________________________________________________\n",
      "activation_47 (Activation)      (None, 10)           0           sequential_4[1][0]               \n",
      "__________________________________________________________________________________________________\n",
      "concatenate_1 (Concatenate)     (None, 20)           0           sequential_4[1][0]               \n",
      "                                                                 model[2][0]                      \n",
      "==================================================================================================\n",
      "Total params: 2,974,100\n",
      "Trainable params: 1,115,786\n",
      "Non-trainable params: 1,858,314\n",
      "__________________________________________________________________________________________________\n"
     ]
    }
   ],
   "source": [
    "#教授コード参考\n",
    "from tensorflow.keras.models import Model\n",
    "from tensorflow.keras.layers import Input, Concatenate\n",
    "\n",
    "model_input = Input(shape=(32,32,3))\n",
    "\n",
    "student_logid = student(model_input)\n",
    "teacher_logid = teacher(model_input)\n",
    "\n",
    "student_softmax = layers.Activation('softmax')(student_logid)\n",
    "\n",
    "logids = Concatenate(axis=-1)([student_logid, teacher_logid])\n",
    "\n",
    "model = Model(inputs=model_input, outputs=[student_softmax, logids])\n",
    "model.summary()"
   ]
  },
  {
   "cell_type": "code",
   "execution_count": 35,
   "metadata": {},
   "outputs": [],
   "source": [
    "import tensorflow.keras.backend as K\n",
    "import tensorflow as tf\n",
    "\n",
    "temperature = 20.\n",
    "\n",
    "def distillation_loss_kldivergence(y_true, y_pred):\n",
    "    student_logid, teacher_logid = tf.split(y_pred, 2, axis=-1)\n",
    "  \n",
    "    student_soft = K.softmax(student_logid/temperature)\n",
    "    teacher_soft = K.softmax(teacher_logid/temperature)\n",
    "\n",
    "    #return K.categorical_crossentropy(teacher_soft, student_soft)\n",
    "    return tf.keras.losses.kullback_leibler_divergence(teacher_soft,student_soft)\n",
    "\n",
    "#教授コード参考\n",
    "def distillation_loss_crossentropy(y_true, y_pred):\n",
    "    student_logid, teacher_logid = tf.split(y_pred, 2, axis=-1)\n",
    "  \n",
    "    student_soft = K.softmax(student_logid/temperature)\n",
    "    teacher_soft = K.softmax(teacher_logid/temperature)\n",
    "\n",
    "    return K.categorical_crossentropy(teacher_soft, student_soft)\n",
    "#     return tf.keras.losses.kullback_leibler_divergence(teacher_soft,student_soft)"
   ]
  },
  {
   "cell_type": "code",
   "execution_count": 36,
   "metadata": {},
   "outputs": [],
   "source": [
    "#教授コード参考\n",
    "from tensorflow.keras import optimizers\n",
    "\n",
    "lambda_const = 0.9\n",
    "adam = optimizers.Adam(lr=0.003, beta_1=0.9, beta_2=0.999, epsilon=1e-08)\n",
    "\n",
    "\n",
    "model.compile(loss = [\"categorical_crossentropy\",distillation_loss_kldivergence], loss_weights=[1-lambda_const, lambda_const * temperature**2], optimizer = adam)\n",
    "#model.compile(loss = [\"categorical_crossentropy\",distillation_loss_crossentropy], loss_weights=[1-lambda_const, lambda_const * temperature**2], optimizer = adam)"
   ]
  },
  {
   "cell_type": "code",
   "execution_count": 37,
   "metadata": {},
   "outputs": [
    {
     "name": "stdout",
     "output_type": "stream",
     "text": [
      "Train on 37500 samples\n",
      "Epoch 1/30\n",
      "37500/37500 [==============================] - 14s 372us/sample - loss: 0.2523 - activation_47_loss: 2.0615 - concatenate_1_loss: 1.2808e-04\n",
      "Epoch 2/30\n",
      "37500/37500 [==============================] - 13s 343us/sample - loss: 0.2236 - activation_47_loss: 1.8483 - concatenate_1_loss: 1.0776e-04\n",
      "Epoch 3/30\n",
      "37500/37500 [==============================] - 16s 434us/sample - loss: 0.2056 - activation_47_loss: 1.7019 - concatenate_1_loss: 9.8466e-05\n",
      "Epoch 4/30\n",
      "37500/37500 [==============================] - 13s 336us/sample - loss: 0.1931 - activation_47_loss: 1.5970 - concatenate_1_loss: 9.2853e-05\n",
      "Epoch 5/30\n",
      "37500/37500 [==============================] - 13s 336us/sample - loss: 0.1826 - activation_47_loss: 1.5090 - concatenate_1_loss: 8.8103e-05\n",
      "Epoch 6/30\n",
      "37500/37500 [==============================] - 13s 339us/sample - loss: 0.1751 - activation_47_loss: 1.4454 - concatenate_1_loss: 8.4776e-05\n",
      "Epoch 7/30\n",
      "37500/37500 [==============================] - 13s 343us/sample - loss: 0.1684 - activation_47_loss: 1.3884 - concatenate_1_loss: 8.1973e-05\n",
      "Epoch 8/30\n",
      "37500/37500 [==============================] - 13s 340us/sample - loss: 0.1632 - activation_47_loss: 1.3453 - concatenate_1_loss: 7.9696e-05\n",
      "Epoch 9/30\n",
      "37500/37500 [==============================] - 12s 333us/sample - loss: 0.1579 - activation_47_loss: 1.2995 - concatenate_1_loss: 7.7518e-05\n",
      "Epoch 10/30\n",
      "37500/37500 [==============================] - 12s 333us/sample - loss: 0.1538 - activation_47_loss: 1.2648 - concatenate_1_loss: 7.5897e-05\n",
      "Epoch 11/30\n",
      "37500/37500 [==============================] - 13s 336us/sample - loss: 0.1492 - activation_47_loss: 1.2254 - concatenate_1_loss: 7.3996e-05\n",
      "Epoch 12/30\n",
      "37500/37500 [==============================] - 13s 334us/sample - loss: 0.1454 - activation_47_loss: 1.1932 - concatenate_1_loss: 7.2430e-05\n",
      "Epoch 13/30\n",
      "37500/37500 [==============================] - 13s 338us/sample - loss: 0.1418 - activation_47_loss: 1.1621 - concatenate_1_loss: 7.1084e-05\n",
      "Epoch 14/30\n",
      "37500/37500 [==============================] - 12s 332us/sample - loss: 0.1387 - activation_47_loss: 1.1360 - concatenate_1_loss: 6.9732e-05\n",
      "Epoch 15/30\n",
      "37500/37500 [==============================] - 13s 334us/sample - loss: 0.1362 - activation_47_loss: 1.1141 - concatenate_1_loss: 6.8748e-05\n",
      "Epoch 16/30\n",
      "37500/37500 [==============================] - 13s 340us/sample - loss: 0.1341 - activation_47_loss: 1.0965 - concatenate_1_loss: 6.7924e-05\n",
      "Epoch 17/30\n",
      "37500/37500 [==============================] - 13s 334us/sample - loss: 0.1322 - activation_47_loss: 1.0801 - concatenate_1_loss: 6.7123e-05\n",
      "Epoch 18/30\n",
      "37500/37500 [==============================] - 13s 336us/sample - loss: 0.1309 - activation_47_loss: 1.0686 - concatenate_1_loss: 6.6706e-05\n",
      "Epoch 19/30\n",
      "37500/37500 [==============================] - 13s 337us/sample - loss: 0.1299 - activation_47_loss: 1.0601 - concatenate_1_loss: 6.6272e-05\n",
      "Epoch 20/30\n",
      "37500/37500 [==============================] - 12s 330us/sample - loss: 0.1285 - activation_47_loss: 1.0489 - concatenate_1_loss: 6.5691e-05\n",
      "Epoch 21/30\n",
      "37500/37500 [==============================] - 13s 336us/sample - loss: 0.1280 - activation_47_loss: 1.0445 - concatenate_1_loss: 6.5516e-05\n",
      "Epoch 22/30\n",
      "37500/37500 [==============================] - 13s 339us/sample - loss: 0.1270 - activation_47_loss: 1.0359 - concatenate_1_loss: 6.5160e-05\n",
      "Epoch 23/30\n",
      "37500/37500 [==============================] - 13s 341us/sample - loss: 0.1265 - activation_47_loss: 1.0317 - concatenate_1_loss: 6.4881e-05\n",
      "Epoch 24/30\n",
      "37500/37500 [==============================] - 13s 338us/sample - loss: 0.1259 - activation_47_loss: 1.0265 - concatenate_1_loss: 6.4662e-05\n",
      "Epoch 25/30\n",
      "37500/37500 [==============================] - 13s 344us/sample - loss: 0.1256 - activation_47_loss: 1.0233 - concatenate_1_loss: 6.4579e-05\n",
      "Epoch 26/30\n",
      "37500/37500 [==============================] - 13s 338us/sample - loss: 0.1249 - activation_47_loss: 1.0176 - concatenate_1_loss: 6.4192e-05\n",
      "Epoch 27/30\n",
      "37500/37500 [==============================] - 13s 339us/sample - loss: 0.1247 - activation_47_loss: 1.0162 - concatenate_1_loss: 6.4228e-05\n",
      "Epoch 28/30\n",
      "37500/37500 [==============================] - 13s 338us/sample - loss: 0.1243 - activation_47_loss: 1.0129 - concatenate_1_loss: 6.3962e-05\n",
      "Epoch 29/30\n",
      "37500/37500 [==============================] - 13s 337us/sample - loss: 0.1242 - activation_47_loss: 1.0118 - concatenate_1_loss: 6.3998e-05\n",
      "Epoch 30/30\n",
      "37500/37500 [==============================] - 13s 343us/sample - loss: 0.1236 - activation_47_loss: 1.0069 - concatenate_1_loss: 6.3693e-05\n"
     ]
    }
   ],
   "source": [
    "EPOCHS = 30\n",
    "csv_logger = CSVLogger('distill_trlog_{}'.format(vers), separator=',', append=False)\n",
    "\n",
    "early_stopping = EarlyStopping(monitor=\"val_acc\", patience=8)\n",
    "reduce_lr = ReduceLROnPlateau(monitor=\"val_loss\", factor=0.5, patience=2, min_lr=1e-5)\n",
    "learning_rate = LearningRateScheduler(step_decay,verbose=1)\n",
    "cp = Checkpoint(model, f\"weights{vers}.hdf5\")\n",
    "\n",
    "history = model.fit(x=x_train,\n",
    "                    y=[y_train,y_train],\n",
    "                    epochs=EPOCHS,\n",
    "                    #validation_data=(x_val,y_val),\n",
    "                    #validation_steps=50,\n",
    "                    #use_multiprocessing=True,\n",
    "                    #workers=4,\n",
    "                    #callbacks=[cp,\n",
    "                                #early_stopping,\n",
    "                               #csv_logger,\n",
    "                                #learning_rate]\n",
    "                    )"
   ]
  },
  {
   "cell_type": "code",
   "execution_count": 38,
   "metadata": {},
   "outputs": [
    {
     "name": "stdout",
     "output_type": "stream",
     "text": [
      "Model: \"model_9\"\n",
      "_________________________________________________________________\n",
      "Layer (type)                 Output Shape              Param #   \n",
      "=================================================================\n",
      "input_11 (InputLayer)        [(None, 32, 32, 3)]       0         \n",
      "_________________________________________________________________\n",
      "sequential_4 (Sequential)    (None, 10)                1117450   \n",
      "_________________________________________________________________\n",
      "activation_48 (Activation)   (None, 10)                0         \n",
      "=================================================================\n",
      "Total params: 1,117,450\n",
      "Trainable params: 1,115,786\n",
      "Non-trainable params: 1,664\n",
      "_________________________________________________________________\n"
     ]
    }
   ],
   "source": [
    "full_input = Input(shape=(32,32,3))\n",
    "full_logid = student(full_input)\n",
    "full_output = layers.Activation('softmax')(full_logid)\n",
    "\n",
    "full_student = Model(inputs=full_input, outputs=full_output)\n",
    "\n",
    "full_student.compile(loss = \"categorical_crossentropy\", optimizer = 'adam', metrics = [\"accuracy\"])\n",
    "full_student.summary()"
   ]
  },
  {
   "cell_type": "code",
   "execution_count": 39,
   "metadata": {},
   "outputs": [
    {
     "name": "stdout",
     "output_type": "stream",
     "text": [
      "10000/10000 [==============================] - 1s 138us/sample - loss: 1.3389 - accuracy: 0.8310\n"
     ]
    },
    {
     "data": {
      "text/plain": [
       "[1.33887417678833, 0.831]"
      ]
     },
     "execution_count": 39,
     "metadata": {},
     "output_type": "execute_result"
    }
   ],
   "source": [
    "full_student.evaluate(x_test, y_test)"
   ]
  },
  {
   "cell_type": "code",
   "execution_count": 40,
   "metadata": {},
   "outputs": [
    {
     "name": "stdout",
     "output_type": "stream",
     "text": [
      "10000/10000 [==============================] - 2s 151us/sample - loss: 0.7263 - acc: 0.8250\n"
     ]
    },
    {
     "data": {
      "text/plain": [
       "[0.726259511756897, 0.825]"
      ]
     },
     "execution_count": 40,
     "metadata": {},
     "output_type": "execute_result"
    }
   ],
   "source": [
    "teacher_model.evaluate(x_test, y_test)"
   ]
  },
  {
   "cell_type": "code",
   "execution_count": null,
   "metadata": {},
   "outputs": [],
   "source": []
  }
 ],
 "metadata": {
  "kernelspec": {
   "display_name": "py37",
   "language": "python",
   "name": "py37"
  },
  "language_info": {
   "codemirror_mode": {
    "name": "ipython",
    "version": 3
   },
   "file_extension": ".py",
   "mimetype": "text/x-python",
   "name": "python",
   "nbconvert_exporter": "python",
   "pygments_lexer": "ipython3",
   "version": "3.7.6"
  }
 },
 "nbformat": 4,
 "nbformat_minor": 4
}
